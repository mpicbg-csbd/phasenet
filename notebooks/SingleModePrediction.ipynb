{
 "cells": [
  {
   "cell_type": "code",
   "execution_count": 2,
   "metadata": {},
   "outputs": [],
   "source": [
    "from phasenet.model import PhaseNet\n",
    "from phasenet.zernike import ZernikeWavefront\n",
    "from csbdeep.utils import normalize, download_and_extract_zip_file\n",
    "import matplotlib.pyplot as plt\n",
    "from pathlib import Path\n",
    "from tifffile import imread\n",
    "import numpy as np"
   ]
  },
  {
   "cell_type": "markdown",
   "metadata": {},
   "source": [
    "## Load model"
   ]
  },
  {
   "cell_type": "code",
   "execution_count": 3,
   "metadata": {},
   "outputs": [
    {
     "name": "stdout",
     "output_type": "stream",
     "text": [
      "Files found, nothing to download.\n"
     ]
    }
   ],
   "source": [
    "download_and_extract_zip_file (\n",
    "    url       = 'https://github.com/mpicbg-csbd/phasenet/releases/download/0.1.0/single_mode_model.zip',\n",
    "    targetdir = 'models',\n",
    "    verbose   = 1,\n",
    ")"
   ]
  },
  {
   "cell_type": "code",
   "execution_count": 4,
   "metadata": {},
   "outputs": [
    {
     "name": "stdout",
     "output_type": "stream",
     "text": [
      "Loading network weights from 'weights_best.h5'.\n"
     ]
    }
   ],
   "source": [
    "model = PhaseNet(None, name='06_07_2020_17_44_08_oxford_32planes_gpu', basedir='models')"
   ]
  },
  {
   "cell_type": "markdown",
   "metadata": {},
   "source": [
    "## Load Data"
   ]
  },
  {
   "cell_type": "code",
   "execution_count": 5,
   "metadata": {},
   "outputs": [
    {
     "name": "stdout",
     "output_type": "stream",
     "text": [
      "Files found, nothing to download.\n"
     ]
    }
   ],
   "source": [
    "download_and_extract_zip_file (\n",
    "    url       = 'https://github.com/mpicbg-csbd/phasenet/releases/download/0.1.0/single_mode_data.zip',\n",
    "    targetdir = 'data',\n",
    "    verbose   = 1,\n",
    ")"
   ]
  },
  {
   "cell_type": "code",
   "execution_count": 6,
   "metadata": {},
   "outputs": [],
   "source": [
    "# Zernike mode number in Noll order\n",
    "mode_num=5"
   ]
  },
  {
   "cell_type": "code",
   "execution_count": 7,
   "metadata": {},
   "outputs": [],
   "source": [
    "data_path = Path(f'data/single_mode_data/mode{mode_num}/')"
   ]
  },
  {
   "cell_type": "code",
   "execution_count": 8,
   "metadata": {},
   "outputs": [],
   "source": [
    "files = sorted((data_path/'images').glob('*.tif'))\n",
    "images = { f.stem: imread(str(f)) for f in files }"
   ]
  },
  {
   "cell_type": "code",
   "execution_count": 9,
   "metadata": {},
   "outputs": [
    {
     "name": "stdout",
     "output_type": "stream",
     "text": [
      "(32, 32, 32)\n"
     ]
    }
   ],
   "source": [
    "print(images['-0.006'].shape)"
   ]
  },
  {
   "cell_type": "markdown",
   "metadata": {},
   "source": [
    "\n",
    "\n",
    "\n",
    "## Predict"
   ]
  },
  {
   "cell_type": "code",
   "execution_count": 10,
   "metadata": {},
   "outputs": [],
   "source": [
    "accepted_shape = model.keras_model.input_shape[1:-1]\n",
    "# zerns_ansi = [3,5,6,7,8,9,10,11,12,13,14]\n",
    "zerns_noll_in_ansi_sorted = [5,6,9,7,8,10,15,13,11,12,14]\n",
    "def predict(data):\n",
    "    assert data.shape == accepted_shape, \"Image shape and input shape not same\"\n",
    "    data = np.expand_dims(normalize(data),axis=-1)\n",
    "    return dict(zip(zerns_noll_in_ansi_sorted,model.predict(data)))\n",
    "random_mode_result = { name:predict(img) for name,img in images.items() }"
   ]
  },
  {
   "cell_type": "markdown",
   "metadata": {},
   "source": [
    "## Comparision with ground truth"
   ]
  },
  {
   "cell_type": "markdown",
   "metadata": {},
   "source": [
    "#### Load GT"
   ]
  },
  {
   "cell_type": "code",
   "execution_count": 11,
   "metadata": {},
   "outputs": [],
   "source": [
    "zerns_noll = [5,6,7,8,9,10,11,12,13,14,15]\n",
    "gt = np.zeros((len(files),len(zerns_noll)))\n",
    "gt[:,zerns_noll.index(mode_num)] = [float(f.stem) for f in files]\n",
    "if mode_num in [7,10,11,14,15]:\n",
    "    gt = -1*gt\n",
    "random_mode_gt = { f.stem: dict(zip(zerns_noll,gt[i])) for i,f in enumerate(files) }"
   ]
  },
  {
   "cell_type": "markdown",
   "metadata": {},
   "source": [
    "#### Plot"
   ]
  },
  {
   "cell_type": "code",
   "execution_count": 14,
   "metadata": {
    "scrolled": true
   },
   "outputs": [
    {
     "data": {
      "image/png": "[encoded data removed]",
      "text/plain": [
       "<Figure size 504x360 with 2 Axes>"
      ]
     },
     "metadata": {
      "needs_background": "light"
     },
     "output_type": "display_data"
    }
   ],
   "source": [
    "lower_limit,upper_limit = -0.13,0.13\n",
    "\n",
    "fig = plt.figure(figsize=(7, 5))\n",
    "ax = fig.add_axes((0.14, .12, .8, .77))\n",
    "\n",
    "for key,value in random_mode_result.items():\n",
    "    ax.plot(random_mode_gt[key][mode_num],value[mode_num],\"o\",color=\"k\", markersize=5)\n",
    "    \n",
    "plt.xlabel(f'Experimentally introduced amplitude for $Z_{{{mode_num}}}$ / $\\mu m$' , size=14, labelpad=4)\n",
    "plt.ylabel(f'Predicted amplitude $a_{{{mode_num}}}$ / $\\mu m$', size=14, labelpad=-5)\n",
    "ax.spines['right'].set_visible(False)\n",
    "ax.spines['top'].set_visible(False)\n",
    "plt.yticks(size=14)\n",
    "plt.xticks(size=14)\n",
    "plt.ylim(lower_limit,upper_limit)\n",
    "plt.xlim(lower_limit,upper_limit)\n",
    "\n",
    "X = np.linspace(lower_limit, upper_limit, num=50)\n",
    "Y = 1 * X\n",
    "ax.plot(X, Y, ls=\"--\", color = \"k\")\n",
    "\n",
    "\n",
    "ax_1 = fig.add_axes([0.59, 0.20, 0.35, 0.25])\n",
    "var = { mode:[list(random_mode_result.values())[i][mode] for i in range(len(random_mode_result))] for mode in zerns_noll}\n",
    "labels, data = var.keys(), var.values()\n",
    "ax_1.boxplot(data)\n",
    "plt.xticks(range(1, len(labels) + 1), labels)\n",
    "ax_1.set_ylim(lower_limit,upper_limit)\n",
    "ax_1.set_ylabel(\"Predicted amplitude / $\\mu m$\", size=8, labelpad=-0.5);\n",
    "\n",
    "None;\n"
   ]
  },
  {
   "cell_type": "code",
   "execution_count": null,
   "metadata": {},
   "outputs": [],
   "source": []
  }
 ],
 "metadata": {
  "kernelspec": {
   "display_name": "Python 3",
   "language": "python",
   "name": "python3"
  },
  "language_info": {
   "codemirror_mode": {
    "name": "ipython",
    "version": 3
   },
   "file_extension": ".py",
   "mimetype": "text/x-python",
   "name": "python",
   "nbconvert_exporter": "python",
   "pygments_lexer": "ipython3",
   "version": "3.6.6"
  }
 },
 "nbformat": 4,
 "nbformat_minor": 2
}
