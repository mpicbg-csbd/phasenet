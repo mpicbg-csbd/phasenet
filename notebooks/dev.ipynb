{
 "cells": [
  {
   "cell_type": "code",
   "execution_count": null,
   "metadata": {},
   "outputs": [],
   "source": [
    "import phasenet.zernike as Z\n",
    "import phasenet.psf as P\n",
    "import phasenet.model as M"
   ]
  },
  {
   "cell_type": "markdown",
   "metadata": {},
   "source": [
    "# Zernike"
   ]
  },
  {
   "cell_type": "code",
   "execution_count": null,
   "metadata": {},
   "outputs": [],
   "source": [
    "print(Z.Zernike(5, order='noll'))\n",
    "print(Z.Zernike(3, order='ansi'))\n",
    "print(Z.Zernike((2,-2)))\n",
    "print(Z.Zernike('oblique astigmatism'))"
   ]
  },
  {
   "cell_type": "code",
   "execution_count": null,
   "metadata": {},
   "outputs": [],
   "source": [
    "for j in range(15):\n",
    "    print(Z.Zernike(j, order='ansi'))"
   ]
  },
  {
   "cell_type": "code",
   "execution_count": null,
   "metadata": {
    "scrolled": false
   },
   "outputs": [],
   "source": [
    "fig, ax = plt.subplots(3,5, figsize=(16,10))\n",
    "for i,a in enumerate(ax.ravel()):\n",
    "    z = Z.Zernike(i, order='ansi')\n",
    "    w = z.polynomial(128)\n",
    "    a.imshow(w)\n",
    "    a.set_title(z.name)\n",
    "    a.axis('off')\n",
    "None;"
   ]
  },
  {
   "cell_type": "markdown",
   "metadata": {},
   "source": [
    "## ZernikeWavefront"
   ]
  },
  {
   "cell_type": "code",
   "execution_count": null,
   "metadata": {},
   "outputs": [],
   "source": [
    "f = Z.ZernikeWavefront(np.random.uniform(-1,1,4), order='ansi')\n",
    "f.zernikes\n",
    "\n",
    "print(f.amplitudes_noll)\n",
    "print(f.amplitudes_ansi)\n",
    "\n",
    "plt.imshow(f.polynomial(512)); plt.colorbar(); plt.axis('off');"
   ]
  },
  {
   "cell_type": "code",
   "execution_count": null,
   "metadata": {},
   "outputs": [],
   "source": [
    "f = Z.random_zernike_wavefront([1,1,1], order='ansi')\n",
    "print(f.amplitudes_requested, f.amplitudes_ansi)\n",
    "\n",
    "f = Z.random_zernike_wavefront([0,0,(1,2)], order='ansi')\n",
    "print(f.amplitudes_requested, f.amplitudes_ansi)\n",
    "\n",
    "f = Z.random_zernike_wavefront({'defocus':(1,2), (3,-3):5})\n",
    "print(f.amplitudes_requested, f.amplitudes_ansi)"
   ]
  },
  {
   "cell_type": "markdown",
   "metadata": {},
   "source": [
    "# PSF"
   ]
  },
  {
   "cell_type": "code",
   "execution_count": null,
   "metadata": {},
   "outputs": [],
   "source": [
    "N = 64*1\n",
    "dx = .1\n",
    "\n",
    "psf = P.PsfGenerator3D(psf_shape=(N,)*3, units=(dx,)*3, na_detection=1.1, lam_detection=.5, n=1.33)"
   ]
  },
  {
   "cell_type": "code",
   "execution_count": null,
   "metadata": {},
   "outputs": [],
   "source": [
    "wf = Z.ZernikeWavefront(np.random.uniform(-0.2,0.2,5), order='ansi')\n",
    "wf.zernikes\n",
    "\n",
    "plt.figure(figsize=(15,4))\n",
    "phase = wf.phase(psf.krho, psf.kphi, normed=True, outside=None)\n",
    "phase = np.fft.fftshift(phase)\n",
    "plt.subplot(131); plt.imshow(phase); plt.colorbar()\n",
    "\n",
    "h1 = np.fft.fftshift(psf.incoherent_psf(wf, normed=True))\n",
    "plt.subplot(132); plt.imshow(h1[N//2]);   plt.title('XY section'); plt.colorbar()\n",
    "plt.subplot(133); plt.imshow(h1[:,N//2]); plt.title('ZX section'); plt.colorbar()\n",
    "plt.tight_layout()\n",
    "None;"
   ]
  },
  {
   "cell_type": "markdown",
   "metadata": {},
   "source": [
    "## Data Generator"
   ]
  },
  {
   "cell_type": "code",
   "execution_count": null,
   "metadata": {},
   "outputs": [],
   "source": [
    "data = M.Data({'vertical coma':.2}, batch_size=3, noise_params={'mean':(100,100),'sigma':(3,4),'snr':(1,5)})\n",
    "psfs, amps = next(data.generator())\n",
    "\n",
    "print(psfs.shape)\n",
    "print(amps.shape)\n",
    "h1 = psfs[0,...,0]\n",
    "\n",
    "plt.figure(figsize=(10,4))\n",
    "plt.subplot(121); plt.imshow(h1[N//2]);   plt.title('XY section'); plt.colorbar()\n",
    "plt.subplot(122); plt.imshow(h1[:,N//2]); plt.title('ZX section'); plt.colorbar()\n",
    "plt.tight_layout();"
   ]
  },
  {
   "cell_type": "markdown",
   "metadata": {},
   "source": [
    "# Model"
   ]
  },
  {
   "cell_type": "code",
   "execution_count": null,
   "metadata": {},
   "outputs": [],
   "source": [
    "c = M.Config(psf_n=8)\n",
    "vars(c)"
   ]
  },
  {
   "cell_type": "code",
   "execution_count": null,
   "metadata": {},
   "outputs": [],
   "source": [
    "#model = M.PhaseNet(M.Config(), basedir=None)\n",
    "model = M.PhaseNet(M.Config(), name='test', basedir='models')\n",
    "vars(model.config)"
   ]
  },
  {
   "cell_type": "code",
   "execution_count": null,
   "metadata": {},
   "outputs": [],
   "source": [
    "model.train(epochs=5)"
   ]
  },
  {
   "cell_type": "markdown",
   "metadata": {},
   "source": [
    "## Load model"
   ]
  },
  {
   "cell_type": "code",
   "execution_count": null,
   "metadata": {},
   "outputs": [],
   "source": [
    "model = M.PhaseNet(None, name='test', basedir='models')\n",
    "vars(model.config)"
   ]
  },
  {
   "cell_type": "markdown",
   "metadata": {},
   "source": [
    "## Create test PSFs"
   ]
  },
  {
   "cell_type": "code",
   "execution_count": null,
   "metadata": {},
   "outputs": [],
   "source": [
    "data = M.Data(\n",
    "    batch_size           = 128,\n",
    "    amplitude_ranges     = {'vertical coma': [-0.5, 0.5]},\n",
    "    #amplitude_ranges     = model.config.zernike_amplitude_ranges,\n",
    "    order                = model.config.zernike_order,\n",
    "    normed               = model.config.zernike_normed,\n",
    "    psf_shape            = model.config.psf_shape,\n",
    "    units                = model.config.psf_units,\n",
    "    na_detection         = model.config.psf_na_detection,\n",
    "    lam_detection        = model.config.psf_lam_detection,\n",
    "    n                    = model.config.psf_n,\n",
    ")\n",
    "psfs, amps = next(data.generator())\n",
    "psfs.shape\n",
    "amps.shape"
   ]
  },
  {
   "cell_type": "markdown",
   "metadata": {},
   "source": [
    "## Predict and plot"
   ]
  },
  {
   "cell_type": "code",
   "execution_count": null,
   "metadata": {},
   "outputs": [],
   "source": [
    "# using keras model directly\n",
    "_amps_pred = model.keras_model.predict(psfs, verbose=1)"
   ]
  },
  {
   "cell_type": "code",
   "execution_count": null,
   "metadata": {},
   "outputs": [],
   "source": [
    "amps_pred = np.stack([model.predict(psf) for psf in tqdm(psfs)])"
   ]
  },
  {
   "cell_type": "code",
   "execution_count": null,
   "metadata": {},
   "outputs": [],
   "source": [
    "print(_amps_pred.shape, amps_pred.shape)\n",
    "np.allclose(_amps_pred.ravel(), amps_pred)"
   ]
  },
  {
   "cell_type": "code",
   "execution_count": null,
   "metadata": {},
   "outputs": [],
   "source": [
    "plt.figure(figsize=(10,8))\n",
    "ind = np.argsort(amps.ravel())\n",
    "plt.plot(amps[ind], label='gt')\n",
    "plt.plot(amps_pred[ind], '--', label='pred')\n",
    "plt.hlines(-0.2, *plt.axis()[:2])\n",
    "plt.hlines(+0.2, *plt.axis()[:2])\n",
    "plt.xlabel('test psf')\n",
    "plt.ylabel(f'amplitude {tuple(model.config.zernike_amplitude_ranges.keys())[0]}')\n",
    "plt.legend()\n",
    "None;"
   ]
  },
  {
   "cell_type": "code",
   "execution_count": null,
   "metadata": {},
   "outputs": [],
   "source": []
  },
  {
   "cell_type": "code",
   "execution_count": null,
   "metadata": {},
   "outputs": [],
   "source": []
  },
  {
   "cell_type": "code",
   "execution_count": null,
   "metadata": {},
   "outputs": [],
   "source": []
  },
  {
   "cell_type": "code",
   "execution_count": null,
   "metadata": {},
   "outputs": [],
   "source": []
  },
  {
   "cell_type": "code",
   "execution_count": null,
   "metadata": {},
   "outputs": [],
   "source": []
  },
  {
   "cell_type": "code",
   "execution_count": null,
   "metadata": {},
   "outputs": [],
   "source": []
  },
  {
   "cell_type": "code",
   "execution_count": null,
   "metadata": {},
   "outputs": [],
   "source": []
  },
  {
   "cell_type": "code",
   "execution_count": null,
   "metadata": {},
   "outputs": [],
   "source": []
  },
  {
   "cell_type": "code",
   "execution_count": null,
   "metadata": {},
   "outputs": [],
   "source": []
  },
  {
   "cell_type": "code",
   "execution_count": null,
   "metadata": {},
   "outputs": [],
   "source": []
  },
  {
   "cell_type": "code",
   "execution_count": null,
   "metadata": {},
   "outputs": [],
   "source": []
  },
  {
   "cell_type": "code",
   "execution_count": null,
   "metadata": {},
   "outputs": [],
   "source": []
  },
  {
   "cell_type": "code",
   "execution_count": null,
   "metadata": {},
   "outputs": [],
   "source": []
  },
  {
   "cell_type": "code",
   "execution_count": null,
   "metadata": {},
   "outputs": [],
   "source": []
  },
  {
   "cell_type": "code",
   "execution_count": null,
   "metadata": {},
   "outputs": [],
   "source": []
  },
  {
   "cell_type": "code",
   "execution_count": null,
   "metadata": {},
   "outputs": [],
   "source": []
  }
 ],
 "metadata": {
  "kernelspec": {
   "display_name": "Python 3",
   "language": "python",
   "name": "python3"
  },
  "language_info": {
   "codemirror_mode": {
    "name": "ipython",
    "version": 3
   },
   "file_extension": ".py",
   "mimetype": "text/x-python",
   "name": "python",
   "nbconvert_exporter": "python",
   "pygments_lexer": "ipython3",
   "version": "3.6.6"
  }
 },
 "nbformat": 4,
 "nbformat_minor": 2
}
