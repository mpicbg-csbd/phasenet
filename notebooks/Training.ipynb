{
 "cells": [
  {
   "cell_type": "code",
   "execution_count": 5,
   "metadata": {},
   "outputs": [],
   "source": [
    "from phasenet.model import PhaseNet, Config, Data\n",
    "from tqdm import tqdm\n",
    "import matplotlib.pyplot as plt\n",
    "import numpy as np"
   ]
  },
  {
   "cell_type": "markdown",
   "metadata": {},
   "source": [
    "## The phasenet model can be trained using the following three steps: "
   ]
  },
  {
   "cell_type": "markdown",
   "metadata": {},
   "source": [
    "### STEP 1 : Setup the config"
   ]
  },
  {
   "cell_type": "code",
   "execution_count": 6,
   "metadata": {},
   "outputs": [
    {
     "data": {
      "text/markdown": [
       "### Configuration for phasenet models  \n",
       "\n",
       "`zernike_amplitude_ranges`:  dictionary or list, the values should either a scalar indicating the absolute magnitude\n",
       "            or a tuple with upper and lower bound, default is {'vertical coma': (-0.2,0.2)}  \n",
       "\n",
       "`zernike_order`:  string, zernike nomeclature used when the amplitude ranges are given as a list, default is 'noll'  \n",
       "\n",
       "`zernike_normed`:  booelan, whether the zzernikes are normalized according, default is True  \n",
       "\n",
       "`net_architecture`:  convnet or resnet, default is convnet  \n",
       "\n",
       "`net_kernel_size`:  convoltuion kernel size, default is (3,3,3)  \n",
       "\n",
       "`net_pool_size`:  max pool kernel size, default is (1,2,2)  \n",
       "\n",
       "`net_activation`:  activation, default is 'tanh'  \n",
       "\n",
       "`net_padding`:  padding for convolution, default is 'same'  \n",
       "\n",
       "`psf_shape`:  tuple, shpae of the psf, default is (64,64,64)  \n",
       "\n",
       "`psf_units`:  tuple, voxel unit (z,y,x) in um, default is (0.1,0.1,0.1)  \n",
       "\n",
       "`psf_na_detection`:  scalar, numerical apperture default is 1.1  \n",
       "\n",
       "`psf_lam_detection`:  scalar, wavelength in um, default is 0.5  \n",
       "\n",
       "`psf_n`:  scalar, refractive index of immersion medium, default is 1.33  \n",
       "\n",
       "`noise_snr`:  scalar or tuple, signal to noise ratio  \n",
       "\n",
       "`noise_mean`:  scalar or tuple, mean background noise  \n",
       "\n",
       "`noise_sigma`:  scalar or tuple, simga for gaussian noise  \n",
       "\n",
       "`gaussian_blur_sigma`:  float, sigma for gaussian bluring after adding noise, default is None  \n",
       "\n",
       "`phantom_params`:  dictionary, parameters for the chosen phantom, e.g. {'name':'sphere','radius':0.1}  \n",
       "\n",
       "`crop_shape`:  tuple, crop shape  \n",
       "\n",
       "`jitter`:  booelan, randomly move the center point within a given limit, default is False  \n",
       "\n",
       "`max_jitter`:  tuple, maximum displacement for jittering, if None then it gets a default value  \n",
       "\n",
       "`train_loss`:  string, training loss, default is 'mse'  \n",
       "\n",
       "`train_epochs`:  integer, number of epochs for trianing, default is 400  \n",
       "\n",
       "`train_steps_per_epoch`:  integer, number of steps per epoch, default is 5  \n",
       "\n",
       "`train_learning_rate`:  scalar, leaning rate, default is 0.0003  \n",
       "\n",
       "`train_batch_size`:  integer, batch size for training the network, default is 8  \n",
       "\n",
       "`train_n_val`:  integer, number of validation data, default is 128  \n",
       "\n",
       "`train_tensorboard`:  boolean, create tensorboard, default is True  \n",
       "\n",
       "`planes`:  list, z planes with respect to center, if None then it takes all the planes\n",
       "\n",
       "    "
      ],
      "text/plain": [
       "<IPython.core.display.Markdown object>"
      ]
     },
     "metadata": {},
     "output_type": "display_data"
    }
   ],
   "source": [
    "from IPython.display import Markdown\n",
    "import re\n",
    "hlp = '### ' + Config.__doc__\n",
    "def _replace(s):\n",
    "    return f\"  \\n\\n`{s.group(1).strip()}`: \"\n",
    "hlp = re.sub(r'\\n\\s*:param([^:]+):', _replace, hlp)\n",
    "display(Markdown(hlp))"
   ]
  },
  {
   "cell_type": "markdown",
   "metadata": {},
   "source": [
    "### Important parameters\n",
    "\n",
    "- Please set the Zernike modes for your application (i.e. which modes in what ranges should the neural network be able to predict) by changing the parameter `zernike_amplitude_ranges`. Please modify `zernike_order` if the Zernikes are not provided in Noll index.\n",
    "\n",
    "- It is also important to set the PSF parameters (`psf_lam_detection`, `psf_units`, `psf_na_detection`, `psf_n`) to match the physical properties of the microscope being used.\n",
    "\n",
    "- It is also advisable to set the noise characteristics (`noise_mean`, `noise_sigma`, `noise_snr`) and phantom parameters (`phantom_params`) to match your image acquisition setup.\n",
    "\n",
    "- The training and network parameters (`train_*`, `net_*`) likely don't have to be changed."
   ]
  },
  {
   "cell_type": "code",
   "execution_count": 11,
   "metadata": {},
   "outputs": [],
   "source": [
    "#zern = [5,6,7,8,9,10,11,12,13,14,15] # for final training\n",
    "zern = [5]                            # for trial\n",
    "amp_range = [0.15]*len(zern)\n",
    "amps = dict(zip(zern, amp_range))"
   ]
  },
  {
   "cell_type": "code",
   "execution_count": 12,
   "metadata": {},
   "outputs": [
    {
     "data": {
      "text/plain": [
       "{'n_dim': 3,\n",
       " 'axes': 'ZYXC',\n",
       " 'n_channel_in': 1,\n",
       " 'n_channel_out': 1,\n",
       " 'train_checkpoint': 'weights_best.h5',\n",
       " 'train_checkpoint_last': 'weights_last.h5',\n",
       " 'train_checkpoint_epoch': 'weights_now.h5',\n",
       " 'zernike_amplitude_ranges': {5: 0.15},\n",
       " 'zernike_order': 'noll',\n",
       " 'zernike_normed': True,\n",
       " 'net_architecture': 'convnet',\n",
       " 'net_kernel_size': (3, 3, 3),\n",
       " 'net_pool_size': (1, 2, 2),\n",
       " 'net_activation': 'tanh',\n",
       " 'net_padding': 'same',\n",
       " 'psf_shape': (64, 64, 64),\n",
       " 'psf_units': (0.1, 0.086, 0.086),\n",
       " 'psf_na_detection': 1.1,\n",
       " 'psf_lam_detection': 0.515,\n",
       " 'psf_n': 1.33,\n",
       " 'noise_mean': None,\n",
       " 'noise_sigma': None,\n",
       " 'noise_snr': None,\n",
       " 'noise_perlin_flag': False,\n",
       " 'gaussian_blur_sigma': None,\n",
       " 'phantom_params': {'name': 'points', 'num': 1},\n",
       " 'crop_shape': (32, 32, 32),\n",
       " 'jitter': True,\n",
       " 'max_jitter': None,\n",
       " 'planes': None,\n",
       " 'train_loss': 'mse',\n",
       " 'train_epochs': 400,\n",
       " 'train_steps_per_epoch': 5,\n",
       " 'train_learning_rate': 0.0003,\n",
       " 'train_batch_size': 8,\n",
       " 'train_n_val': 128,\n",
       " 'train_tensorboard': True}"
      ]
     },
     "execution_count": 12,
     "metadata": {},
     "output_type": "execute_result"
    }
   ],
   "source": [
    "c = Config(zernike_amplitude_ranges=amps, psf_na_detection=1.1, psf_units=(0.1,0.086,0.086), psf_n=1.33, psf_lam_detection=0.515, noise_mean=None, noise_snr=None, noise_sigma=None)\n",
    "vars(c)"
   ]
  },
  {
   "cell_type": "markdown",
   "metadata": {},
   "source": [
    "## STEP 2 : Setup the model"
   ]
  },
  {
   "cell_type": "code",
   "execution_count": 13,
   "metadata": {},
   "outputs": [
    {
     "name": "stderr",
     "output_type": "stream",
     "text": [
      "/Users/dsaha/anaconda/lib/python3.6/site-packages/csbdeep/models/base_model.py:148: UserWarning: output path for model already exists, files may be overwritten: /Users/dsaha/Codes/phase_net_code/notebooks/models/test\n",
      "  warnings.warn('output path for model already exists, files may be overwritten: %s' % str(self.logdir.resolve()))\n"
     ]
    }
   ],
   "source": [
    "model = PhaseNet(config=c, name='test', basedir='models')"
   ]
  },
  {
   "cell_type": "markdown",
   "metadata": {},
   "source": [
    "## STEP 3: Train the model"
   ]
  },
  {
   "cell_type": "markdown",
   "metadata": {},
   "source": [
    "**Note**: We only set `epochs=20` here for a quick demo. Remove that to train the model properly (will take much longer)."
   ]
  },
  {
   "cell_type": "code",
   "execution_count": 18,
   "metadata": {
    "scrolled": true
   },
   "outputs": [
    {
     "name": "stdout",
     "output_type": "stream",
     "text": [
      "Epoch 1/20\n",
      "5/5 [==============================] - 31s 6s/step - loss: 0.0013 - val_loss: 8.6529e-04\n",
      "Epoch 2/20\n",
      "5/5 [==============================] - 29s 6s/step - loss: 0.0019 - val_loss: 0.0014\n",
      "Epoch 3/20\n",
      "5/5 [==============================] - 29s 6s/step - loss: 6.6020e-04 - val_loss: 9.2444e-04\n",
      "Epoch 4/20\n",
      "5/5 [==============================] - 31s 6s/step - loss: 0.0011 - val_loss: 5.3873e-04\n",
      "Epoch 5/20\n",
      "5/5 [==============================] - 30s 6s/step - loss: 4.4110e-04 - val_loss: 5.0665e-04\n",
      "Epoch 6/20\n",
      "5/5 [==============================] - 31s 6s/step - loss: 3.3166e-04 - val_loss: 2.5138e-04\n",
      "Epoch 7/20\n",
      "5/5 [==============================] - 32s 6s/step - loss: 2.8642e-04 - val_loss: 2.4223e-04\n",
      "Epoch 8/20\n",
      "5/5 [==============================] - 33s 7s/step - loss: 2.9218e-04 - val_loss: 2.5568e-04\n",
      "Epoch 9/20\n",
      "5/5 [==============================] - 33s 7s/step - loss: 3.1286e-04 - val_loss: 3.9828e-04\n",
      "Epoch 10/20\n",
      "5/5 [==============================] - 32s 6s/step - loss: 4.8954e-04 - val_loss: 6.8436e-04\n",
      "Epoch 11/20\n",
      "5/5 [==============================] - 29s 6s/step - loss: 5.8207e-04 - val_loss: 2.9044e-04\n",
      "Epoch 12/20\n",
      "5/5 [==============================] - 41s 8s/step - loss: 6.0963e-04 - val_loss: 1.8869e-04\n",
      "Epoch 13/20\n",
      "5/5 [==============================] - 33s 7s/step - loss: 2.6977e-04 - val_loss: 3.1750e-04\n",
      "Epoch 14/20\n",
      "5/5 [==============================] - 28s 6s/step - loss: 2.6017e-04 - val_loss: 4.0344e-04\n",
      "Epoch 15/20\n",
      "5/5 [==============================] - 34s 7s/step - loss: 3.3642e-04 - val_loss: 2.7922e-04\n",
      "Epoch 16/20\n",
      "5/5 [==============================] - 32s 6s/step - loss: 2.9083e-04 - val_loss: 1.3997e-04\n",
      "Epoch 17/20\n",
      "5/5 [==============================] - 28s 6s/step - loss: 2.1301e-04 - val_loss: 1.5057e-04\n",
      "Epoch 18/20\n",
      "5/5 [==============================] - 29s 6s/step - loss: 2.9366e-04 - val_loss: 1.0655e-04\n",
      "Epoch 19/20\n",
      "5/5 [==============================] - 28s 6s/step - loss: 1.1559e-04 - val_loss: 1.3566e-04\n",
      "Epoch 20/20\n",
      "5/5 [==============================] - 28s 6s/step - loss: 2.1323e-04 - val_loss: 1.4260e-04\n",
      "\n",
      "Loading network weights from 'weights_best.h5'.\n"
     ]
    },
    {
     "data": {
      "text/plain": [
       "<keras.callbacks.History at 0x13c29c828>"
      ]
     },
     "execution_count": 18,
     "metadata": {},
     "output_type": "execute_result"
    }
   ],
   "source": [
    "model.train(epochs=20)"
   ]
  },
  {
   "cell_type": "markdown",
   "metadata": {},
   "source": [
    "### Validation on synthetic data"
   ]
  },
  {
   "cell_type": "code",
   "execution_count": 19,
   "metadata": {},
   "outputs": [
    {
     "data": {
      "text/plain": [
       "((50, 32, 32, 32, 1), (50, 1))"
      ]
     },
     "execution_count": 19,
     "metadata": {},
     "output_type": "execute_result"
    }
   ],
   "source": [
    "data = Data(\n",
    "    batch_size           = 50,\n",
    "    amplitude_ranges     = model.config.zernike_amplitude_ranges,\n",
    "    order                = model.config.zernike_order,\n",
    "    normed               = model.config.zernike_normed,\n",
    "    psf_shape            = model.config.psf_shape,\n",
    "    units                = model.config.psf_units,\n",
    "    na_detection         = model.config.psf_na_detection,\n",
    "    lam_detection        = model.config.psf_lam_detection,\n",
    "    n                    = model.config.psf_n,\n",
    "    noise_mean           = model.config.noise_mean,\n",
    "    noise_snr            = model.config.noise_snr,\n",
    "    noise_sigma          = model.config.noise_sigma,\n",
    "    noise_perlin_flag    = model.config.noise_perlin_flag,\n",
    "    crop_shape           = model.config.crop_shape,\n",
    "    jitter               = model.config.jitter,\n",
    "    phantom_params       = model.config.phantom_params,\n",
    "    planes               = model.config.planes,\n",
    ")\n",
    "psfs, amps = next(data.generator())\n",
    "psfs.shape, amps.shape"
   ]
  },
  {
   "cell_type": "code",
   "execution_count": 20,
   "metadata": {},
   "outputs": [
    {
     "name": "stderr",
     "output_type": "stream",
     "text": [
      "100%|██████████| 50/50 [00:03<00:00, 14.49it/s]\n"
     ]
    }
   ],
   "source": [
    "amps_pred = np.array([model.predict(psf) for psf in tqdm(psfs)])"
   ]
  },
  {
   "cell_type": "code",
   "execution_count": 21,
   "metadata": {},
   "outputs": [
    {
     "data": {
      "image/png": "[encoded data removed]",
      "text/plain": [
       "<Figure size 720x576 with 1 Axes>"
      ]
     },
     "metadata": {
      "needs_background": "light"
     },
     "output_type": "display_data"
    }
   ],
   "source": [
    "plt.figure(figsize=(10,8))\n",
    "ind = np.argsort(amps.ravel())\n",
    "plt.plot(amps[ind], marker='*', label='gt')\n",
    "plt.plot(amps_pred[ind], '--', marker='*', label='pred')\n",
    "# plt.hlines(-0.2, *plt.axis()[:2])\n",
    "# plt.hlines(+0.2, *plt.axis()[:2])\n",
    "plt.xlabel('test psf')\n",
    "plt.ylabel(f'amplitude {tuple(model.config.zernike_amplitude_ranges.keys())[0]}')\n",
    "plt.legend()\n",
    "None;"
   ]
  },
  {
   "cell_type": "code",
   "execution_count": null,
   "metadata": {},
   "outputs": [],
   "source": []
  }
 ],
 "metadata": {
  "kernelspec": {
   "display_name": "Python 3",
   "language": "python",
   "name": "python3"
  },
  "language_info": {
   "codemirror_mode": {
    "name": "ipython",
    "version": 3
   },
   "file_extension": ".py",
   "mimetype": "text/x-python",
   "name": "python",
   "nbconvert_exporter": "python",
   "pygments_lexer": "ipython3",
   "version": "3.6.6"
  }
 },
 "nbformat": 4,
 "nbformat_minor": 2
}
