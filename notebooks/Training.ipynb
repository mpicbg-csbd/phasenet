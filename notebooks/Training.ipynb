{
 "cells": [
  {
   "cell_type": "code",
   "execution_count": 11,
   "metadata": {},
   "outputs": [],
   "source": [
    "import phasenet.zernike as Z\n",
    "import phasenet.psf as P\n",
    "import phasenet.model as M\n",
    "from phasenet.phantoms import *\n",
    "from tqdm import tqdm\n",
    "import matplotlib.pyplot as plt"
   ]
  },
  {
   "cell_type": "markdown",
   "metadata": {},
   "source": [
    "### The phasenet model can be trained using the following three steps: "
   ]
  },
  {
   "cell_type": "markdown",
   "metadata": {},
   "source": [
    "### STEP 1 : Setup the config"
   ]
  },
  {
   "cell_type": "markdown",
   "metadata": {},
   "source": [
    "##### Following parameters needs to be set for the config file:\n",
    "\n",
    "*zernike_amplitude_ranges* : dictionary or list, the values should either a scalar indicating the absolute magnitude or a tuple with upper and lower bound, default is {'vertical coma':(-0.2,0.2)}\n",
    "\n",
    "*zernike_order* : string, zernike nomeclature used when the amplitude ranges are given as a list, default is 'noll'\n",
    "\n",
    "*zernike_normed* : booelan, whether the zzernikes are normalized according, default is True\n",
    "\n",
    "*net_kernel_size* : convoltuion kernel size, default is (3,3,3)\n",
    "\n",
    "*net_pool_size* : max pool kernel size, default is (1,2,2)\n",
    "\n",
    "*net_activation* : activation, default is 'tanh'\n",
    "\n",
    "*net_padding* : padding for convolution, default is 'same'\n",
    "\n",
    "*psf_shape* : tuple, shpae of the psf, default is (64,64,64)\n",
    "\n",
    "*psf_units* : tuple, voxel unit (z,y,x) in um, default is (0.1,0.1,0.1)\n",
    "\n",
    "*psf_na_detection* : scalar, numerical apperture default is 1.1\n",
    "\n",
    "*psf_lam_detection* : scalar, wavelength in um, default is 0.5\n",
    "\n",
    "*psf_n*: scalar, refractive index of immersion medium, default is 1.33\n",
    "\n",
    "*noise_snr* : scalar or tuple, signal to noise ratio\n",
    "\n",
    "*noise_mean* : scalar or tuple, mean background noise\n",
    "\n",
    "*noise_sigma* : scalar or tuple, simga for gaussian noise\n",
    "\n",
    "*gaussian_blur_sigma* : float, sigma for gaussian bluring after adding noise, default is None\n",
    "\n",
    "*phantom_params* : dictionary, parameters for the chosen phantom, e.g. {'name'='sphere',radius':0.1}. The phantom should belong ot the phantom class.\n",
    "\n",
    "*crop_shape* : tuple, crop shape\n",
    "\n",
    "*jitter* : booelan, randomly move the center point within a given limit, default is False\n",
    "\n",
    "*max_jitter* : tuple, maximum displacement for jittering, if None then it gets a default value\n",
    "\n",
    "*train_loss* : string, training loss, default is 'mse'\n",
    "\n",
    "*train_epochs*: integer, number of epochs for trianing, default is 400\n",
    "\n",
    "*train_steps_per_epoch* : integer, number of steps per epoch, default is 5\n",
    "\n",
    "*train_learning_rate* : scalar, leaning rate, default is 0.0003\n",
    "\n",
    "*train_batch_size* : integer, batch size for training the network, default is 8\n",
    "\n",
    "*train_n_val* : integer, number of validation data, default is 128\n",
    "\n",
    "*train_tensorboard* : boolean, create tensorboard, default is True\n",
    "\n",
    "*planes* : list, z planes with respect to center, if None then it takes all the planes"
   ]
  },
  {
   "cell_type": "code",
   "execution_count": 3,
   "metadata": {},
   "outputs": [
    {
     "data": {
      "text/plain": [
       "{'n_dim': 3,\n",
       " 'axes': 'ZYXC',\n",
       " 'n_channel_in': 1,\n",
       " 'n_channel_out': 1,\n",
       " 'train_checkpoint': 'weights_best.h5',\n",
       " 'train_checkpoint_last': 'weights_last.h5',\n",
       " 'train_checkpoint_epoch': 'weights_now.h5',\n",
       " 'zernike_amplitude_ranges': {'vertical coma': (-0.2, 0.2)},\n",
       " 'zernike_order': 'noll',\n",
       " 'zernike_normed': True,\n",
       " 'net_kernel_size': (3, 3, 3),\n",
       " 'net_pool_size': (1, 2, 2),\n",
       " 'net_activation': 'tanh',\n",
       " 'net_padding': 'same',\n",
       " 'psf_shape': (64, 64, 64),\n",
       " 'psf_units': (0.1, 0.1, 0.1),\n",
       " 'psf_na_detection': 1.1,\n",
       " 'psf_lam_detection': 0.5,\n",
       " 'psf_n': 8,\n",
       " 'noise_mean': 100,\n",
       " 'noise_sigma': 3.5,\n",
       " 'noise_snr': (1.0, 5),\n",
       " 'gaussian_blur_sigma': None,\n",
       " 'phantom_params': None,\n",
       " 'crop_shape': (32, 32, 32),\n",
       " 'jitter': True,\n",
       " 'max_jitter': None,\n",
       " 'planes': None,\n",
       " 'train_loss': 'mse',\n",
       " 'train_epochs': 400,\n",
       " 'train_steps_per_epoch': 5,\n",
       " 'train_learning_rate': 0.0003,\n",
       " 'train_batch_size': 8,\n",
       " 'train_n_val': 128,\n",
       " 'train_tensorboard': True,\n",
       " 'model_input_shape': (32, 32, 32)}"
      ]
     },
     "execution_count": 3,
     "metadata": {},
     "output_type": "execute_result"
    }
   ],
   "source": [
    "c = M.Config(psf_n=8,phantom_params=None)\n",
    "vars(c)"
   ]
  },
  {
   "cell_type": "markdown",
   "metadata": {},
   "source": [
    "## STEP 2 : Setup the model"
   ]
  },
  {
   "cell_type": "markdown",
   "metadata": {},
   "source": [
    "#### Following parameters needs to be set for the model:\n",
    "\n",
    "*config* : Config file\n",
    "\n",
    "*name* :  Name of the model\n",
    "\n",
    "*basedir* : Base directory to save the model"
   ]
  },
  {
   "cell_type": "code",
   "execution_count": 4,
   "metadata": {},
   "outputs": [
    {
     "name": "stderr",
     "output_type": "stream",
     "text": [
      "/Users/dsaha/anaconda/lib/python3.6/site-packages/csbdeep/models/base_model.py:134: UserWarning: output path for model already exists, files may be overwritten: /Users/dsaha/Codes/phase_net_code/notebooks/models/test\n",
      "  warnings.warn('output path for model already exists, files may be overwritten: %s' % str(self.logdir.resolve()))\n"
     ]
    }
   ],
   "source": [
    "model = M.PhaseNet(config=c, name='test', basedir='models')"
   ]
  },
  {
   "cell_type": "markdown",
   "metadata": {},
   "source": [
    "## STEP 3: Train the model"
   ]
  },
  {
   "cell_type": "code",
   "execution_count": 5,
   "metadata": {
    "scrolled": true
   },
   "outputs": [
    {
     "name": "stdout",
     "output_type": "stream",
     "text": [
      "Epoch 1/20\n",
      "5/5 [==============================] - 26s 5s/step - loss: 0.0199 - val_loss: 0.0124\n",
      "Epoch 2/20\n",
      "5/5 [==============================] - 25s 5s/step - loss: 0.0145 - val_loss: 0.0114\n",
      "Epoch 3/20\n",
      "5/5 [==============================] - 25s 5s/step - loss: 0.0087 - val_loss: 0.0040\n",
      "Epoch 4/20\n",
      "5/5 [==============================] - 24s 5s/step - loss: 0.0025 - val_loss: 0.0034\n",
      "Epoch 5/20\n",
      "5/5 [==============================] - 25s 5s/step - loss: 0.0018 - val_loss: 9.4923e-04\n",
      "Epoch 6/20\n",
      "5/5 [==============================] - 24s 5s/step - loss: 0.0016 - val_loss: 8.1531e-04\n",
      "Epoch 7/20\n",
      "5/5 [==============================] - 25s 5s/step - loss: 0.0012 - val_loss: 0.0011\n",
      "Epoch 8/20\n",
      "5/5 [==============================] - 24s 5s/step - loss: 0.0013 - val_loss: 9.4298e-04\n",
      "Epoch 9/20\n",
      "5/5 [==============================] - 24s 5s/step - loss: 0.0014 - val_loss: 0.0017\n",
      "Epoch 10/20\n",
      "5/5 [==============================] - 25s 5s/step - loss: 0.0014 - val_loss: 0.0012\n",
      "Epoch 11/20\n",
      "5/5 [==============================] - 25s 5s/step - loss: 0.0027 - val_loss: 5.5841e-04\n",
      "Epoch 12/20\n",
      "5/5 [==============================] - 25s 5s/step - loss: 0.0026 - val_loss: 0.0016\n",
      "Epoch 13/20\n",
      "5/5 [==============================] - 25s 5s/step - loss: 0.0016 - val_loss: 5.7383e-04\n",
      "Epoch 14/20\n",
      "5/5 [==============================] - 25s 5s/step - loss: 8.3726e-04 - val_loss: 4.0102e-04\n",
      "Epoch 15/20\n",
      "5/5 [==============================] - 25s 5s/step - loss: 0.0010 - val_loss: 0.0013\n",
      "Epoch 16/20\n",
      "5/5 [==============================] - 24s 5s/step - loss: 0.0011 - val_loss: 9.3019e-04\n",
      "Epoch 17/20\n",
      "5/5 [==============================] - 26s 5s/step - loss: 8.6349e-04 - val_loss: 0.0015\n",
      "Epoch 18/20\n",
      "5/5 [==============================] - 25s 5s/step - loss: 0.0014 - val_loss: 6.0283e-04\n",
      "Epoch 19/20\n",
      "5/5 [==============================] - 25s 5s/step - loss: 7.3859e-04 - val_loss: 3.1581e-04\n",
      "Epoch 20/20\n",
      "5/5 [==============================] - 25s 5s/step - loss: 4.5471e-04 - val_loss: 4.1490e-04\n",
      "\n",
      "Loading network weights from 'weights_best.h5'.\n"
     ]
    },
    {
     "data": {
      "text/plain": [
       "<keras.callbacks.History at 0x137a870f0>"
      ]
     },
     "execution_count": 5,
     "metadata": {},
     "output_type": "execute_result"
    }
   ],
   "source": [
    "model.train(epochs=20)"
   ]
  },
  {
   "cell_type": "markdown",
   "metadata": {},
   "source": [
    "### Validation on synthetic data"
   ]
  },
  {
   "cell_type": "code",
   "execution_count": 6,
   "metadata": {},
   "outputs": [
    {
     "data": {
      "text/plain": [
       "(10, 32, 32, 32, 1)"
      ]
     },
     "execution_count": 6,
     "metadata": {},
     "output_type": "execute_result"
    },
    {
     "data": {
      "text/plain": [
       "(10, 1)"
      ]
     },
     "execution_count": 6,
     "metadata": {},
     "output_type": "execute_result"
    }
   ],
   "source": [
    "data = M.Data(\n",
    "    batch_size           = 10,\n",
    "    amplitude_ranges     = model.config.zernike_amplitude_ranges,\n",
    "    order                = model.config.zernike_order,\n",
    "    normed               = model.config.zernike_normed,\n",
    "    psf_shape            = model.config.psf_shape,\n",
    "    units                = model.config.psf_units,\n",
    "    na_detection         = model.config.psf_na_detection,\n",
    "    lam_detection        = model.config.psf_lam_detection,\n",
    "    n                    = model.config.psf_n,\n",
    "    noise_mean           = model.config.noise_mean,\n",
    "    noise_snr            = model.config.noise_snr,\n",
    "    noise_sigma          = model.config.noise_sigma,\n",
    "    crop_shape           = model.config.crop_shape,\n",
    "    jitter               = model.config.jitter,\n",
    "    phantom_params       = model.config.phantom_params,\n",
    "    planes               = model.config.planes,\n",
    ")\n",
    "psfs, amps = next(data.generator())\n",
    "psfs.shape\n",
    "amps.shape"
   ]
  },
  {
   "cell_type": "code",
   "execution_count": 32,
   "metadata": {},
   "outputs": [
    {
     "name": "stderr",
     "output_type": "stream",
     "text": [
      "100%|██████████| 10/10 [00:00<00:00, 16.51it/s]\n"
     ]
    }
   ],
   "source": [
    "amps_pred = np.array([model.predict(psf) for psf in tqdm(psfs)])"
   ]
  },
  {
   "cell_type": "code",
   "execution_count": 39,
   "metadata": {},
   "outputs": [
    {
     "data": {
      "image/png": "[encoded data removed]",
      "text/plain": [
       "<Figure size 720x576 with 1 Axes>"
      ]
     },
     "metadata": {
      "needs_background": "light"
     },
     "output_type": "display_data"
    }
   ],
   "source": [
    "plt.figure(figsize=(10,8))\n",
    "ind = np.argsort(amps.ravel())\n",
    "plt.plot(amps[ind], marker='*',label='gt')\n",
    "plt.plot(amps_pred[ind], '--',marker='*', label='pred')\n",
    "# plt.hlines(-0.2, *plt.axis()[:2])\n",
    "# plt.hlines(+0.2, *plt.axis()[:2])\n",
    "plt.xlabel('test psf')\n",
    "plt.ylabel(f'amplitude {tuple(model.config.zernike_amplitude_ranges.keys())[0]}')\n",
    "plt.legend()\n",
    "None;"
   ]
  },
  {
   "cell_type": "code",
   "execution_count": null,
   "metadata": {},
   "outputs": [],
   "source": []
  }
 ],
 "metadata": {
  "kernelspec": {
   "display_name": "Python 3",
   "language": "python",
   "name": "python3"
  },
  "language_info": {
   "codemirror_mode": {
    "name": "ipython",
    "version": 3
   },
   "file_extension": ".py",
   "mimetype": "text/x-python",
   "name": "python",
   "nbconvert_exporter": "python",
   "pygments_lexer": "ipython3",
   "version": "3.6.6"
  }
 },
 "nbformat": 4,
 "nbformat_minor": 2
}
